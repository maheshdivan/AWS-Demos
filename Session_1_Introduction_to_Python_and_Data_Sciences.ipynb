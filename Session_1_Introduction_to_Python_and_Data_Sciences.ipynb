{
  "nbformat": 4,
  "nbformat_minor": 0,
  "metadata": {
    "colab": {
      "name": "Session 1 - Introduction to Python and Data Sciences.ipynb",
      "version": "0.3.2",
      "provenance": [],
      "collapsed_sections": [],
      "toc_visible": true,
      "include_colab_link": true
    },
    "kernelspec": {
      "name": "python3",
      "display_name": "Python 3"
    }
  },
  "cells": [
    {
      "cell_type": "markdown",
      "metadata": {
        "id": "view-in-github",
        "colab_type": "text"
      },
      "source": [
        "[View in Colaboratory](https://colab.research.google.com/github/maheshdivan/AWS-Demos/blob/master/Session_1_Introduction_to_Python_and_Data_Sciences.ipynb)"
      ]
    },
    {
      "metadata": {
        "id": "_KMAsV-6uNIl",
        "colab_type": "text"
      },
      "cell_type": "markdown",
      "source": [
        "# Introduction to Data Sciences\n",
        "\n",
        "Data Science is a combination of multiple fields used together to analyse and solve complex problems. In practical sense, it is what corporates have started asking after collecting a lot of data: *Now what?*"
      ]
    },
    {
      "metadata": {
        "id": "CCywDDzHBTs_",
        "colab_type": "text"
      },
      "cell_type": "markdown",
      "source": [
        "## Core Disciplines\n",
        "\n",
        "### Data Inference (Sherlock Holmes mode)\n",
        "\n",
        "  This is the branch of data sciences that works on a piece of data and derives inference from the data. The key idea here is that the complete data is known in the beginning and the job of the scientist is to derive inferences from the data. Inferences type can range from simple aggregates (like range of values, probabilities, etc) to complex inferences like cause and effect analysis. The type and quantity of data may limit scope of the inferences.\n",
        "\n",
        "### Algorithm Development (Albert Einstein mode)\n",
        "\n",
        "  This is the branch of data sciences that works on a *schema* of data and build systems that can derive the inferences from any new data that follows the schema provided. Schema is simply the structure of data. What are the various properties each datum contains and what are the possible values for each of those properties. It may also include some additional limitations like conditional relationships between properties.\n",
        "    \n",
        "### Technology (Gary McKinnon mode or Kevin Mitnick mode)\n",
        "\n",
        "  This branch works on allowing the inference mechanisms and algorithms to utilise the power of computational systems (like conventional computers, computer clusters, GPUs, etc) for performing the set of actions planned.\n",
        "    \n",
        "### Data Science Pillars\n",
        "\n",
        "![https://cdn-images-1.medium.com/max/1129/0*rNapZQnyP5EBLYli.png](https://cdn-images-1.medium.com/max/1129/0*rNapZQnyP5EBLYli.png)"
      ]
    },
    {
      "metadata": {
        "id": "6lk7D5_iBZy7",
        "colab_type": "text"
      },
      "cell_type": "markdown",
      "source": [
        "### Core Tasks\n",
        "\n",
        "- Data Mining\n",
        "\n",
        "    This deals with collecting the data from a source. It can be as simple as simply loading a data file or as complex as deriving data from an untructured source like a web page.\n",
        "\n",
        "- Insight Generation\n",
        "\n",
        "    This is the most popular part of Data Sciences. This is the task of generating Data Inferences.\n",
        "\n",
        "- Data Product Development\n",
        "\n",
        "    This is the most rewarding part of Data Sciences. This is the task of generating Algorithms and data pipelines and publishing them as products that perform specific tasks.\n",
        "\n",
        "- Data Visualization\n",
        "\n",
        "    This is perhaps the most important part of Data Sciences. It involves making the results of all your efforts consumable by the end user. Your sponsor (employer or stakeholder) requires your results in a format they can understand."
      ]
    },
    {
      "metadata": {
        "id": "M5gF3jq9Bg_X",
        "colab_type": "text"
      },
      "cell_type": "markdown",
      "source": [
        "## Type of Data Anlytics"
      ]
    },
    {
      "metadata": {
        "id": "rrCxqx8VDX_9",
        "colab_type": "text"
      },
      "cell_type": "markdown",
      "source": [
        "### In the Industry\n",
        "\n",
        "- Descriptive\n",
        "- Diagnostic / Inquisitive\n",
        "- Predictive\n",
        "- Prescriptive\n",
        "\n",
        "![DDPP](http://insights.principa.co.za/hs-fs/hubfs/blog-files/4-types-of-data-analytics-principa.png?t=1501852828197&width=734&height=406&name=4-types-of-data-analytics-principa.png)\n",
        "\n",
        "![DIPP](https://www.mu-sigma.com/analytics/images/dipp.png)"
      ]
    },
    {
      "metadata": {
        "id": "6wfuJ5VLBhCl",
        "colab_type": "text"
      },
      "cell_type": "markdown",
      "source": [
        "### Extended List\n",
        "\n",
        "- Descriptive\n",
        "- Exploratory\n",
        "- Inferential\n",
        "- Predictive\n",
        "- Causal\n",
        "- Prescriptive\n",
        "- Mechanistic"
      ]
    },
    {
      "metadata": {
        "id": "GlFcqHpuBhN1",
        "colab_type": "text"
      },
      "cell_type": "markdown",
      "source": [
        "### Popular Data Science Problems\n",
        "\n",
        "- Prediction (predict a value based on inputs)\n",
        "- Classification (e.g., spam or not spam)\n",
        "- Recommendations (e.g., Amazon and Netflix recommendations)\n",
        "- Pattern detection and grouping (e.g., classification without known classes)\n",
        "- Anomaly detection (e.g., fraud detection)\n",
        "- Recognition (image, text, audio, video, facial, …)\n",
        "- Actionable insights (via dashboards, reports, visualizations, …)\n",
        "- Automated processes and decision-making (e.g., credit card approval)\n",
        "- Scoring and ranking (e.g., FICO score)\n",
        "- Segmentation (e.g., demographic-based marketing)\n",
        "- Optimization (e.g., risk management)\n",
        "- Forecasts (e.g., sales and revenue)"
      ]
    },
    {
      "metadata": {
        "id": "wxd1f_kIBhIY",
        "colab_type": "text"
      },
      "cell_type": "markdown",
      "source": [
        "## Who are you?\n",
        "\n",
        "![Drew Conway's Data Scientist Venn Diagram](https://static1.squarespace.com/static/5150aec6e4b0e340ec52710a/t/51525c33e4b0b3e0d10f77ab/1364352052403/Data_Science_VD.png?format=750w)\n",
        "\n",
        "*Drew Conway's Data Scientist Venn Diagram*\n",
        "\n",
        "![The New Data Scientist's Venn Diagram](https://www.innoarchitech.com/assets/images/what-data-scientist/data-science-venn-stephan-kolassa.png)\n",
        "\n",
        "*The New Data Scientist's Venn Diagram*\n",
        "\n",
        "![Data Science Skills](https://blog.udacity.com/wp-content/uploads/2014/11/Data-Science-Skills-Udacity-Matrix.png)"
      ]
    },
    {
      "metadata": {
        "id": "5hWXbjC6BhFx",
        "colab_type": "text"
      },
      "cell_type": "markdown",
      "source": [
        "### The Data Analyst Part\n",
        "\n",
        "- Access and query (e.g., SQL) different data sources\n",
        "- Process and clean data\n",
        "- Summarize data\n",
        "- Understand and use some statistics and mathematical techniques\n",
        "- Prepare data visualizations and reports\n",
        "\n",
        "The Data Analyst is not always a programming expert and may rely on various tools like *Microsoft Excel*, *Tableau*, *SAS*, *Qlik* etc. Rely on Data Scientists for advanced operations that require programming."
      ]
    },
    {
      "metadata": {
        "id": "7xKqDdHYCAZm",
        "colab_type": "text"
      },
      "cell_type": "markdown",
      "source": [
        "### The Data Engineer Part\n",
        "\n",
        "These are another very important group of people. They are more interested in storing, retrieving, protecting and providing data that the data analysis itself. In the world of Big Data, their role has become very important."
      ]
    },
    {
      "metadata": {
        "id": "8IuNzZh2F5zV",
        "colab_type": "text"
      },
      "cell_type": "markdown",
      "source": [
        "### 10 types of Data Scientist\n",
        "\n",
        "![10 types of Data People](https://s3.amazonaws.com/files.dezyre.com/images/blog/10+Types+of+Data+Scientists/10+Types+of+Data+Scientists.png)"
      ]
    },
    {
      "metadata": {
        "id": "JIT7tAdqBhSC",
        "colab_type": "text"
      },
      "cell_type": "markdown",
      "source": [
        "## Data Sciences Steps\n",
        "\n",
        "### Popular Process\n",
        "\n",
        "![Your core actions as a beginner](https://www.analyttica.com/wp-content/uploads/2018/01/Blog-234.png)\n",
        "\n",
        "### Real Process\n",
        "\n",
        "- Define the problem\n",
        "- Obtain the Data\n",
        "- Select the Data\n",
        "- Clean the Data\n",
        "- Transform and Enrich\n",
        "- Model Selection\n",
        "- Train and Evaluate\n",
        "- Feedback"
      ]
    },
    {
      "metadata": {
        "id": "_ok-PqzVBhLU",
        "colab_type": "text"
      },
      "cell_type": "markdown",
      "source": [
        "### The scientific Methodology\n",
        "\n",
        "![The scientific methodology](https://www.innoarchitech.com/assets/images/what-data-scientist/scientific-method-as-an-ongoing-process.min.svg)"
      ]
    },
    {
      "metadata": {
        "id": "IMCZ0OGtGgNy",
        "colab_type": "text"
      },
      "cell_type": "markdown",
      "source": [
        "# Introduction to Python\n",
        "\n",
        "![Python](data:image/png;base64,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)"
      ]
    },
    {
      "metadata": {
        "id": "_vG0taUdII4P",
        "colab_type": "text"
      },
      "cell_type": "markdown",
      "source": [
        "## [What is Python?](https://www.python.org/doc/essays/blurb/)\n",
        "\n",
        "Python is an interpreted, object-oriented, high-level programming language with dynamic semantics. Its high-level built in data structures, combined with dynamic typing and dynamic binding, make it very attractive for Rapid Application Development, as well as for use as a scripting or glue language to connect existing components together. Python's simple, easy to learn syntax emphasizes readability and therefore reduces the cost of program maintenance. Python supports modules and packages, which encourages program modularity and code reuse. The Python interpreter and the extensive standard library are available in source or binary form without charge for all major platforms, and can be freely distributed.\n",
        "\n",
        "Often, programmers fall in love with Python because of the increased productivity it provides. Since there is no compilation step, the edit-test-debug cycle is incredibly fast. Debugging Python programs is easy: a bug or bad input will never cause a segmentation fault. Instead, when the interpreter discovers an error, it raises an exception. When the program doesn't catch the exception, the interpreter prints a stack trace. A source level debugger allows inspection of local and global variables, evaluation of arbitrary expressions, setting breakpoints, stepping through the code a line at a time, and so on. The debugger is written in Python itself, testifying to Python's introspective power. On the other hand, often the quickest way to debug a program is to add a few print statements to the source: the fast edit-test-debug cycle makes this simple approach very effective."
      ]
    },
    {
      "metadata": {
        "id": "zBpBR2nVInIh",
        "colab_type": "text"
      },
      "cell_type": "markdown",
      "source": [
        "- **Interpreted** - Executes line by line. Does not require compilation.\n",
        "- **Object Oriented** - A style of programming that is based on *classes* and *objects*\n",
        "- **High Level Programming Language** - A programming language that looks much closer to natural language (English in this case) than computer language ([01000010 01101001 01101110 01100001 01110010 01111001](https://www.binarytranslator.com/))\n",
        "- **Dynamic Semantic** - Various features including\n",
        "    - **Dynamic typed** - No need to define the data type before providing the data\n",
        "    - **Dynamic binding** - Location of the data can change over multiple itterations\n",
        "- **Scripting** - A style of creating code (like in JavaScript, R, etc)\n",
        "- **Glue Language** - A language that can connect to various components from multiple languages and bring them together. This is because Python is capable of talking to nearly every other language and utilising its features.\n",
        "- **Modularity** - Build your code piece by piece (in modules) and replace them on the go as needed.\n",
        "- **Edit-Test-Debug Cycle** - The most common way of creating code and ensuring it performs as expected.\n",
        "- **Debug** - Remove unexpected behaviour of the code."
      ]
    },
    {
      "metadata": {
        "id": "5UB_5WJ6NA4Z",
        "colab_type": "text"
      },
      "cell_type": "markdown",
      "source": [
        "Python is a general-purpose programming language, which is another way to say that it can be used for nearly everything. Most importantly, it is an interpreted language, which means that the written code is actually translated to a computer-readable format at runtime. Whereas, most programming languages do this conversion before the program is even run."
      ]
    },
    {
      "metadata": {
        "id": "0Dy_8JNmOJPv",
        "colab_type": "text"
      },
      "cell_type": "markdown",
      "source": [
        "- Python was conceived in the late 1980s, and its implementation began in December 1989 by Guido van Rossum.\n",
        "- Python 2.0 was released on 16 October 2000 and had many major new features.\n",
        "- Python 3.0 (initially called Python 3000 or py3k) was released on 3 December 2008 after a long testing period. It is a major revision of the language that is not completely backward-compatible with previous versions. However, many of its major features have been backported to the Python 2.6.x and 2.7.x version series, and releases of Python 3 include the 2to3 utility, which automates the translation of Python 2 code to Python 3.\n",
        "- Python 2.7's end-of-life date was initially set at 2015, then postponed to 2020 out of concern that a large body of existing code could not easily be forward-ported to Python 3."
      ]
    },
    {
      "metadata": {
        "id": "qr4FaQ8HrGEy",
        "colab_type": "code",
        "colab": {
          "base_uri": "https://localhost:8080/",
          "height": 395
        },
        "outputId": "3e5d6ed7-f81f-44ce-c63b-9a8023398886"
      },
      "cell_type": "code",
      "source": [
        "import this"
      ],
      "execution_count": 0,
      "outputs": [
        {
          "output_type": "stream",
          "text": [
            "The Zen of Python, by Tim Peters\n",
            "\n",
            "Beautiful is better than ugly.\n",
            "Explicit is better than implicit.\n",
            "Simple is better than complex.\n",
            "Complex is better than complicated.\n",
            "Flat is better than nested.\n",
            "Sparse is better than dense.\n",
            "Readability counts.\n",
            "Special cases aren't special enough to break the rules.\n",
            "Although practicality beats purity.\n",
            "Errors should never pass silently.\n",
            "Unless explicitly silenced.\n",
            "In the face of ambiguity, refuse the temptation to guess.\n",
            "There should be one-- and preferably only one --obvious way to do it.\n",
            "Although that way may not be obvious at first unless you're Dutch.\n",
            "Now is better than never.\n",
            "Although never is often better than *right* now.\n",
            "If the implementation is hard to explain, it's a bad idea.\n",
            "If the implementation is easy to explain, it may be a good idea.\n",
            "Namespaces are one honking great idea -- let's do more of those!\n"
          ],
          "name": "stdout"
        }
      ]
    },
    {
      "metadata": {
        "id": "jGgfWW-9O_5R",
        "colab_type": "text"
      },
      "cell_type": "markdown",
      "source": [
        "- Python is a multi-paradigm programming language: a sort of Swiss Army knife for the coding world. It supports object-oriented programming, structured programming, and functional programming patterns, among others. There’s a joke in the Python community that “Python is generally the second-best language for everything.”\n",
        "\n",
        "- Python’s inherent readability and simplicity make it relatively easy to pick up and the number of dedicated analytical libraries available today mean that data scientists in almost every sector will find packages already tailored to their needs freely available for download.\n",
        "\n",
        "- Because of Python’s extensibility and general purpose nature, it was inevitable as its popularity exploded that someone would eventually start using it for data analytics. As a jack of all trades, Python is not especially well-suited to statistical analysis, but in many cases organizations already heavily invested in the language saw advantages to standardizing on it and extending it to that purpose.\n",
        "\n",
        "- The Libraries Make the Language: Free Data Analysis Libraries for Python Abound: As is the case with many other programming languages, it’s the available libraries that lead to Python’s success: some 72,000 of them in the Python Package Index (PyPI) and growing constantly.\n",
        "\n",
        "- With Python explicitly designed to have a lightweight and stripped-down core, the standard library has been built up with tools for every sort of programming task… a “batteries included” philosophy that allows language users to quickly get down to the nuts and bolts of solving problems without having to sift through and choose between competing function libraries.\n",
        "\n",
        "- Python is free, open-source software, and consequently anyone can write a library package to extend its functionality. Data science has been an early beneficiary of these extensions, particularly Pandas, the big daddy of them all.\n",
        "\n",
        "- Pandas is the Python Data Analysis Library, used for everything from importing data from Excel spreadsheets to processing sets for time-series analysis. Pandas puts pretty much every common data munging tool at your fingertips. This means that basic cleanup and some advanced manipulation can be performed with Pandas’ powerful dataframes.\n",
        "\n",
        "- Pandas is built on top of NumPy, one of the earliest libraries behind Python’s data science success story. NumPy’s functions are exposed in Pandas for advanced numeric analysis.\n",
        "\n",
        "  If you need something more specialized, chances are it’s out there:\n",
        "\n",
        "  - SciPy is the scientific equivalent of NumPy, offering tools and techniques for analysis of scientific data.\n",
        "  - Statsmodels focuses on tools for statistical analysis.\n",
        "  - Scilkit-Learn and PyBrain are machine learning libraries that provide modules for building neural networks and data preprocessing.\n",
        "\n",
        "   And these just represent the peoples’ favorites. Other specialized libraries include:\n",
        "\n",
        "  - SymPy – for statistical applications\n",
        "  - Shogun, PyLearn2 and PyMC – for machine learning\n",
        "  - Bokeh, d3py, ggplot, matplotlib, Plotly, prettyplotlib, and seaborn – for plotting and visualization\n",
        "  - csvkit, PyTables, SQLite3 – for storage and data formatting\n",
        "  \n",
        "- There’s battle out there happening in the minds of aspiring data scientists to choose the best data science tool. Though there are quite a number of data science tools that provide the much-needed option, the close combat narrows down between two popular languages – Python and R.\n",
        "\n",
        "  Between the two, Python is emerging as the popular language used more in data science applications.\n",
        "\n",
        "  - Google created the deep learning framework called tensorflow – Python is the primary language used for creating this framework\n",
        "  - Its footprint has continued to increase in the environment promoted by Netflix\n",
        "  - Production engineers at Facebook and Khan Academy have for long been using it as a prominent language in their environment\n",
        "\n",
        "  - It integrates well with the most cloud as well as platform-as-a-service providers.\n",
        "  - In supporting multiprocessing for parallel computing, it brings the distinct advantage of ensuring large-scale performance in data science and machine learning.\n",
        "  - Python can also be extended with modules written in C/C++\n",
        "  \n",
        "![Language popularity for Machine Learning](https://qph.fs.quoracdn.net/main-qimg-7749386f6b8b7c7627165f6ca69e885f.webp)"
      ]
    },
    {
      "metadata": {
        "id": "xXtN4-fARka0",
        "colab_type": "text"
      },
      "cell_type": "markdown",
      "source": [
        "# Python Basics"
      ]
    },
    {
      "metadata": {
        "id": "avbRHTYyR21Y",
        "colab_type": "text"
      },
      "cell_type": "markdown",
      "source": [
        "## Basic operations in Python"
      ]
    },
    {
      "metadata": {
        "id": "lwlNnfWASMay",
        "colab_type": "text"
      },
      "cell_type": "markdown",
      "source": [
        "### Comments, Strings, DocStrings and Display"
      ]
    },
    {
      "metadata": {
        "id": "RXTSLCMMSQjj",
        "colab_type": "code",
        "colab": {}
      },
      "cell_type": "code",
      "source": [
        "# A comment in Python is any part of the code starting with a `#` sign and ending with the end line (Return or Enter)"
      ],
      "execution_count": 0,
      "outputs": []
    },
    {
      "metadata": {
        "id": "9PrckAsRSa_b",
        "colab_type": "code",
        "colab": {
          "base_uri": "https://localhost:8080/",
          "height": 55
        },
        "outputId": "88ac068e-0121-455e-af38-c3e9cd7808a2"
      },
      "cell_type": "code",
      "source": [
        "\"Strings are another way of creating comments. This statement simply creates a string that is neither stored into a variable nor displayed during the execution. However, it does utilise 1 execution cycle of the processor.\""
      ],
      "execution_count": 0,
      "outputs": [
        {
          "output_type": "execute_result",
          "data": {
            "text/plain": [
              "'Strings are another way of creating comments. This statement simply creates a string that is neither stored into a variable nor displayed during the execution. However, it does utilise 1 execution cycle of the processor.'"
            ]
          },
          "metadata": {
            "tags": []
          },
          "execution_count": 3
        }
      ]
    },
    {
      "metadata": {
        "id": "E_UzbRlxTO0e",
        "colab_type": "code",
        "colab": {
          "base_uri": "https://localhost:8080/",
          "height": 35
        },
        "outputId": "ceafd8ca-c8fb-41f6-cca7-11ae56858a36"
      },
      "cell_type": "code",
      "source": [
        "'A string may be written by putting a single quote (\\') or a double quote (\\\") at the begining and the end of the string' "
      ],
      "execution_count": 0,
      "outputs": [
        {
          "output_type": "execute_result",
          "data": {
            "text/plain": [
              "'A string may be written by putting a single quote (\\') or a double quote (\") at the begining and the end of the string'"
            ]
          },
          "metadata": {
            "tags": []
          },
          "execution_count": 4
        }
      ]
    },
    {
      "metadata": {
        "id": "vvaVMEuGTVY0",
        "colab_type": "code",
        "colab": {
          "base_uri": "https://localhost:8080/",
          "height": 55
        },
        "outputId": "f2ac488c-645e-4424-cd21-24b3393418d4"
      },
      "cell_type": "code",
      "source": [
        "\"\"\"Tripple quotes at the begining and end of a string allow for the user to provide multiple line input.\n",
        "\n",
        "Tripple quotes are either \\'\\'\\' or \\\"\\\"\\\".\n",
        "\n",
        "These allow for us to write code that retains the format of the text (new lines, etc).\n",
        "\"\"\""
      ],
      "execution_count": 0,
      "outputs": [
        {
          "output_type": "execute_result",
          "data": {
            "text/plain": [
              "'Tripple quotes at the begining and end of a string allow for the user to provide multiple line input.\\n\\nTripple quotes are either \\'\\'\\' or \"\"\".\\n\\nThese allow for us to write code that retains the format of the text (new lines, etc).\\n'"
            ]
          },
          "metadata": {
            "tags": []
          },
          "execution_count": 5
        }
      ]
    },
    {
      "metadata": {
        "id": "7JU8KhX9UcyK",
        "colab_type": "code",
        "colab": {
          "base_uri": "https://localhost:8080/",
          "height": 449
        },
        "outputId": "c2814c79-1908-4e2f-e31f-7c88010b253f"
      },
      "cell_type": "code",
      "source": [
        "# DocStrings are special strings within the python code that are interpretted as documentation by python. These can be read by using the help function:\n",
        "\n",
        "help(this)"
      ],
      "execution_count": 0,
      "outputs": [
        {
          "output_type": "stream",
          "text": [
            "Help on module this:\n",
            "\n",
            "NAME\n",
            "    this\n",
            "\n",
            "MODULE REFERENCE\n",
            "    https://docs.python.org/3.6/library/this\n",
            "    \n",
            "    The following documentation is automatically generated from the Python\n",
            "    source files.  It may be incomplete, incorrect or include features that\n",
            "    are considered implementation detail and may vary between Python\n",
            "    implementations.  When in doubt, consult the module reference at the\n",
            "    location listed above.\n",
            "\n",
            "DATA\n",
            "    c = 97\n",
            "    d = {'A': 'N', 'B': 'O', 'C': 'P', 'D': 'Q', 'E': 'R', 'F': 'S', 'G': ...\n",
            "    i = 25\n",
            "    s = \"Gur Mra bs Clguba, ol Gvz Crgref\\n\\nOrnhgvshy vf o...bar ubaxvat ...\n",
            "\n",
            "FILE\n",
            "    /usr/lib/python3.6/this.py\n",
            "\n",
            "\n"
          ],
          "name": "stdout"
        }
      ]
    },
    {
      "metadata": {
        "id": "O1rPz5noVez6",
        "colab_type": "code",
        "colab": {}
      },
      "cell_type": "code",
      "source": [
        "# Alternatively you can access some of the documentation using the ?\n",
        "\n",
        "this?"
      ],
      "execution_count": 0,
      "outputs": []
    },
    {
      "metadata": {
        "id": "f2Z7j14CVvlB",
        "colab_type": "text"
      },
      "cell_type": "markdown",
      "source": [
        "The print function is used display results of the code execution."
      ]
    },
    {
      "metadata": {
        "id": "iQaFarxaVslJ",
        "colab_type": "code",
        "colab": {
          "base_uri": "https://localhost:8080/",
          "height": 35
        },
        "outputId": "9b1bfbf7-1982-4ced-84c1-37275907dc9a"
      },
      "cell_type": "code",
      "source": [
        "print(1)"
      ],
      "execution_count": 0,
      "outputs": [
        {
          "output_type": "stream",
          "text": [
            "1\n"
          ],
          "name": "stdout"
        }
      ]
    },
    {
      "metadata": {
        "id": "M5TqZWuBWETS",
        "colab_type": "text"
      },
      "cell_type": "markdown",
      "source": [
        "When using Jupyter notebooks or IPython or such a IDE, the result of the last executed line is automatically displayed as output "
      ]
    },
    {
      "metadata": {
        "id": "jn87vGCiWiFY",
        "colab_type": "code",
        "colab": {
          "base_uri": "https://localhost:8080/",
          "height": 35
        },
        "outputId": "61322280-73f8-48b3-be36-97380a4bc639"
      },
      "cell_type": "code",
      "source": [
        "1"
      ],
      "execution_count": 0,
      "outputs": [
        {
          "output_type": "execute_result",
          "data": {
            "text/plain": [
              "1"
            ]
          },
          "metadata": {
            "tags": []
          },
          "execution_count": 9
        }
      ]
    },
    {
      "metadata": {
        "id": "owxtxAlPR32E",
        "colab_type": "text"
      },
      "cell_type": "markdown",
      "source": [
        "### Mathematical Operations\n",
        "\n"
      ]
    },
    {
      "metadata": {
        "id": "YppZBydlS9hf",
        "colab_type": "text"
      },
      "cell_type": "markdown",
      "source": [
        "The most basic mathematics operations are:\n",
        "\n",
        "- Addition: +\n",
        "- Subtraction: -\n",
        "- Multiplication: *\n",
        "- Division: /\n",
        "- Integer Division: //\n",
        "- Modulus (Remainder): %\n",
        "- Power (Exponent): **"
      ]
    },
    {
      "metadata": {
        "id": "sO1bbrldOs-s",
        "colab_type": "code",
        "colab": {
          "base_uri": "https://localhost:8080/",
          "height": 35
        },
        "outputId": "5f99f3e9-eb2a-4d93-cb04-019f62d2cf17"
      },
      "cell_type": "code",
      "source": [
        "3+2"
      ],
      "execution_count": 0,
      "outputs": [
        {
          "output_type": "execute_result",
          "data": {
            "text/plain": [
              "5"
            ]
          },
          "metadata": {
            "tags": []
          },
          "execution_count": 33
        }
      ]
    },
    {
      "metadata": {
        "id": "PXhPqsWZXFRR",
        "colab_type": "code",
        "colab": {
          "base_uri": "https://localhost:8080/",
          "height": 35
        },
        "outputId": "356d7662-668d-465e-96bc-bab477798c40"
      },
      "cell_type": "code",
      "source": [
        "3-2"
      ],
      "execution_count": 0,
      "outputs": [
        {
          "output_type": "execute_result",
          "data": {
            "text/plain": [
              "1"
            ]
          },
          "metadata": {
            "tags": []
          },
          "execution_count": 34
        }
      ]
    },
    {
      "metadata": {
        "id": "I4lvfq9wXGFq",
        "colab_type": "code",
        "colab": {
          "base_uri": "https://localhost:8080/",
          "height": 35
        },
        "outputId": "3373fa67-7cdc-4260-f1bb-f49d2ae81d05"
      },
      "cell_type": "code",
      "source": [
        "3*2"
      ],
      "execution_count": 0,
      "outputs": [
        {
          "output_type": "execute_result",
          "data": {
            "text/plain": [
              "6"
            ]
          },
          "metadata": {
            "tags": []
          },
          "execution_count": 35
        }
      ]
    },
    {
      "metadata": {
        "id": "gteiI7eVXHcm",
        "colab_type": "code",
        "colab": {
          "base_uri": "https://localhost:8080/",
          "height": 35
        },
        "outputId": "27a9b1b7-5edb-43e1-c455-47c685a0380e"
      },
      "cell_type": "code",
      "source": [
        "3/2"
      ],
      "execution_count": 0,
      "outputs": [
        {
          "output_type": "execute_result",
          "data": {
            "text/plain": [
              "1.5"
            ]
          },
          "metadata": {
            "tags": []
          },
          "execution_count": 36
        }
      ]
    },
    {
      "metadata": {
        "id": "nX5lWFL7XIO5",
        "colab_type": "code",
        "colab": {
          "base_uri": "https://localhost:8080/",
          "height": 35
        },
        "outputId": "fbd0e906-1f93-41ed-8804-0d27ef9f2565"
      },
      "cell_type": "code",
      "source": [
        "3//2"
      ],
      "execution_count": 0,
      "outputs": [
        {
          "output_type": "execute_result",
          "data": {
            "text/plain": [
              "1"
            ]
          },
          "metadata": {
            "tags": []
          },
          "execution_count": 37
        }
      ]
    },
    {
      "metadata": {
        "id": "i9tc2IoQXI1q",
        "colab_type": "code",
        "colab": {
          "base_uri": "https://localhost:8080/",
          "height": 35
        },
        "outputId": "3592eab3-1f2e-48d9-e6a1-ce8dabefa314"
      },
      "cell_type": "code",
      "source": [
        "3%2"
      ],
      "execution_count": 0,
      "outputs": [
        {
          "output_type": "execute_result",
          "data": {
            "text/plain": [
              "1"
            ]
          },
          "metadata": {
            "tags": []
          },
          "execution_count": 38
        }
      ]
    },
    {
      "metadata": {
        "id": "IJC7_9_4XRRu",
        "colab_type": "code",
        "colab": {
          "base_uri": "https://localhost:8080/",
          "height": 35
        },
        "outputId": "4c368a0b-7eee-42e2-9bb4-a1f92e708e42"
      },
      "cell_type": "code",
      "source": [
        "3**2"
      ],
      "execution_count": 0,
      "outputs": [
        {
          "output_type": "execute_result",
          "data": {
            "text/plain": [
              "9"
            ]
          },
          "metadata": {
            "tags": []
          },
          "execution_count": 39
        }
      ]
    },
    {
      "metadata": {
        "id": "xE8wfesfXbf9",
        "colab_type": "text"
      },
      "cell_type": "markdown",
      "source": [
        "### Variable assignment\n",
        "\n",
        "Variable assignment in Python is as simple as:\n",
        "\n",
        "```\n",
        "name = value\n",
        "```\n",
        "\n",
        "Here name is a name given to the variable and value is the stored value in that variable. Variables allow us provide such names to values and reuse them on the go without coding the value in the begining.\n",
        "\n",
        "***Note:*** Python is Case Sensitive. This means X and x are considered different names. Alo this means that you must always be careful of the case in which you are typing the code.\n",
        "\n",
        "Variable assignment can also include an operation instead of a simple value."
      ]
    },
    {
      "metadata": {
        "id": "KlAl4oM2XTRE",
        "colab_type": "code",
        "colab": {
          "base_uri": "https://localhost:8080/",
          "height": 53
        },
        "outputId": "9b660887-9281-484d-87e8-981b6d7642f2"
      },
      "cell_type": "code",
      "source": [
        "x = 1 + 3\n",
        "print(x)\n",
        "x"
      ],
      "execution_count": 0,
      "outputs": [
        {
          "output_type": "stream",
          "text": [
            "4\n"
          ],
          "name": "stdout"
        },
        {
          "output_type": "execute_result",
          "data": {
            "text/plain": [
              "4"
            ]
          },
          "metadata": {
            "tags": []
          },
          "execution_count": 17
        }
      ]
    },
    {
      "metadata": {
        "id": "UWyRZ12sYY2K",
        "colab_type": "text"
      },
      "cell_type": "markdown",
      "source": [
        "Variables can be used as a part of other variable creations"
      ]
    },
    {
      "metadata": {
        "id": "WZXhSjcdYUJU",
        "colab_type": "code",
        "colab": {
          "base_uri": "https://localhost:8080/",
          "height": 35
        },
        "outputId": "67bc62e4-3ade-485a-fbd8-f47ef1225f2d"
      },
      "cell_type": "code",
      "source": [
        "y = x + 3\n",
        "y"
      ],
      "execution_count": 0,
      "outputs": [
        {
          "output_type": "execute_result",
          "data": {
            "text/plain": [
              "7"
            ]
          },
          "metadata": {
            "tags": []
          },
          "execution_count": 18
        }
      ]
    },
    {
      "metadata": {
        "id": "zprMWBZwYeUm",
        "colab_type": "code",
        "colab": {
          "base_uri": "https://localhost:8080/",
          "height": 35
        },
        "outputId": "26469552-5810-4966-adae-2bb31775ba68"
      },
      "cell_type": "code",
      "source": [
        "x + y"
      ],
      "execution_count": 0,
      "outputs": [
        {
          "output_type": "execute_result",
          "data": {
            "text/plain": [
              "11"
            ]
          },
          "metadata": {
            "tags": []
          },
          "execution_count": 19
        }
      ]
    },
    {
      "metadata": {
        "id": "vFIXign-YjEn",
        "colab_type": "text"
      },
      "cell_type": "markdown",
      "source": [
        "### String operations"
      ]
    },
    {
      "metadata": {
        "id": "2bgLBhl7Yg-w",
        "colab_type": "code",
        "colab": {
          "base_uri": "https://localhost:8080/",
          "height": 35
        },
        "outputId": "ecaa4c91-d491-4975-93bf-81b13eba138f"
      },
      "cell_type": "code",
      "source": [
        "a = \"Hello World!\"\n",
        "a"
      ],
      "execution_count": 0,
      "outputs": [
        {
          "output_type": "execute_result",
          "data": {
            "text/plain": [
              "'Hello World!'"
            ]
          },
          "metadata": {
            "tags": []
          },
          "execution_count": 20
        }
      ]
    },
    {
      "metadata": {
        "id": "t9mNsRC_YxFo",
        "colab_type": "code",
        "colab": {
          "base_uri": "https://localhost:8080/",
          "height": 35
        },
        "outputId": "342e0ab8-95d3-4130-e303-4348b135810c"
      },
      "cell_type": "code",
      "source": [
        "len(a)"
      ],
      "execution_count": 0,
      "outputs": [
        {
          "output_type": "execute_result",
          "data": {
            "text/plain": [
              "12"
            ]
          },
          "metadata": {
            "tags": []
          },
          "execution_count": 21
        }
      ]
    },
    {
      "metadata": {
        "id": "PCL219CKY0ls",
        "colab_type": "code",
        "colab": {
          "base_uri": "https://localhost:8080/",
          "height": 35
        },
        "outputId": "044aac60-fd6d-4d52-fb64-ad4246d48723"
      },
      "cell_type": "code",
      "source": [
        "a.lower()"
      ],
      "execution_count": 0,
      "outputs": [
        {
          "output_type": "execute_result",
          "data": {
            "text/plain": [
              "'hello world!'"
            ]
          },
          "metadata": {
            "tags": []
          },
          "execution_count": 22
        }
      ]
    },
    {
      "metadata": {
        "id": "J-TH7ePlY2Sn",
        "colab_type": "code",
        "colab": {
          "base_uri": "https://localhost:8080/",
          "height": 35
        },
        "outputId": "7d8ac263-1691-4566-de81-df97df7bdbd4"
      },
      "cell_type": "code",
      "source": [
        "a.upper()"
      ],
      "execution_count": 0,
      "outputs": [
        {
          "output_type": "execute_result",
          "data": {
            "text/plain": [
              "'HELLO WORLD!'"
            ]
          },
          "metadata": {
            "tags": []
          },
          "execution_count": 23
        }
      ]
    },
    {
      "metadata": {
        "id": "VXDv5kLjY4AH",
        "colab_type": "code",
        "colab": {
          "base_uri": "https://localhost:8080/",
          "height": 35
        },
        "outputId": "09f28aae-315a-4287-8926-9fa01e2760d9"
      },
      "cell_type": "code",
      "source": [
        "a.replace('H', 'J')"
      ],
      "execution_count": 0,
      "outputs": [
        {
          "output_type": "execute_result",
          "data": {
            "text/plain": [
              "'Jello World!'"
            ]
          },
          "metadata": {
            "tags": []
          },
          "execution_count": 24
        }
      ]
    },
    {
      "metadata": {
        "id": "i2vQat_cY9sM",
        "colab_type": "code",
        "colab": {
          "base_uri": "https://localhost:8080/",
          "height": 35
        },
        "outputId": "de8f548a-a2c6-4487-fc1b-f2a5b3be9b33"
      },
      "cell_type": "code",
      "source": [
        "a.replace('!', '')"
      ],
      "execution_count": 0,
      "outputs": [
        {
          "output_type": "execute_result",
          "data": {
            "text/plain": [
              "'Hello World'"
            ]
          },
          "metadata": {
            "tags": []
          },
          "execution_count": 25
        }
      ]
    },
    {
      "metadata": {
        "id": "p7OV7xU9ZC0E",
        "colab_type": "code",
        "colab": {
          "base_uri": "https://localhost:8080/",
          "height": 35
        },
        "outputId": "89a2e59c-c3be-43c0-b40c-b48742ef9c18"
      },
      "cell_type": "code",
      "source": [
        "a.split()"
      ],
      "execution_count": 0,
      "outputs": [
        {
          "output_type": "execute_result",
          "data": {
            "text/plain": [
              "['Hello', 'World!']"
            ]
          },
          "metadata": {
            "tags": []
          },
          "execution_count": 26
        }
      ]
    },
    {
      "metadata": {
        "id": "AiR32ZfJZFf6",
        "colab_type": "code",
        "colab": {
          "base_uri": "https://localhost:8080/",
          "height": 35
        },
        "outputId": "f6ab3b6f-692d-4c03-b4f4-d1d2d86fa5d0"
      },
      "cell_type": "code",
      "source": [
        "a.split('e')"
      ],
      "execution_count": 0,
      "outputs": [
        {
          "output_type": "execute_result",
          "data": {
            "text/plain": [
              "['H', 'llo World!']"
            ]
          },
          "metadata": {
            "tags": []
          },
          "execution_count": 27
        }
      ]
    },
    {
      "metadata": {
        "id": "T06kFgjvZHtt",
        "colab_type": "code",
        "colab": {
          "base_uri": "https://localhost:8080/",
          "height": 53
        },
        "outputId": "ef717c2f-c72f-4a88-c468-7a025ad456a7"
      },
      "cell_type": "code",
      "source": [
        "b = input()\n",
        "b"
      ],
      "execution_count": 0,
      "outputs": [
        {
          "output_type": "stream",
          "text": [
            "\"Hi!\"\n"
          ],
          "name": "stdout"
        },
        {
          "output_type": "execute_result",
          "data": {
            "text/plain": [
              "'\"Hi!\"'"
            ]
          },
          "metadata": {
            "tags": []
          },
          "execution_count": 28
        }
      ]
    },
    {
      "metadata": {
        "id": "LpDEk5qsZKjd",
        "colab_type": "code",
        "colab": {
          "base_uri": "https://localhost:8080/",
          "height": 53
        },
        "outputId": "dd467143-05eb-459a-b132-0d9043cbd82f"
      },
      "cell_type": "code",
      "source": [
        "c = input('Please enter your name:')\n",
        "print('Welcome', c, '!')"
      ],
      "execution_count": 0,
      "outputs": [
        {
          "output_type": "stream",
          "text": [
            "Please enter your name:Gagan\n",
            "Welcome Gagan !\n"
          ],
          "name": "stdout"
        }
      ]
    },
    {
      "metadata": {
        "id": "jlc3yJWtZY_q",
        "colab_type": "code",
        "colab": {
          "base_uri": "https://localhost:8080/",
          "height": 35
        },
        "outputId": "b7b42956-7568-42ff-a3ea-abdd3e23bfa8"
      },
      "cell_type": "code",
      "source": [
        "'Welcome {}!'.format(c)"
      ],
      "execution_count": 0,
      "outputs": [
        {
          "output_type": "execute_result",
          "data": {
            "text/plain": [
              "'Welcome Gagan!'"
            ]
          },
          "metadata": {
            "tags": []
          },
          "execution_count": 40
        }
      ]
    },
    {
      "metadata": {
        "id": "N4GHnTW8aimZ",
        "colab_type": "code",
        "colab": {
          "base_uri": "https://localhost:8080/",
          "height": 35
        },
        "outputId": "ff412e41-007c-4357-cee1-ad6b910a4568"
      },
      "cell_type": "code",
      "source": [
        "d = '{} is an amazing language!'\n",
        "d.format('Python')"
      ],
      "execution_count": 0,
      "outputs": [
        {
          "output_type": "execute_result",
          "data": {
            "text/plain": [
              "'Python is an amazing language!'"
            ]
          },
          "metadata": {
            "tags": []
          },
          "execution_count": 41
        }
      ]
    },
    {
      "metadata": {
        "id": "dnsq7u8dauNk",
        "colab_type": "code",
        "colab": {
          "base_uri": "https://localhost:8080/",
          "height": 35
        },
        "outputId": "2e3e9b85-d48a-43c7-93ec-93e2ad9e1e77"
      },
      "cell_type": "code",
      "source": [
        "d"
      ],
      "execution_count": 0,
      "outputs": [
        {
          "output_type": "execute_result",
          "data": {
            "text/plain": [
              "'{} is an amazing language!'"
            ]
          },
          "metadata": {
            "tags": []
          },
          "execution_count": 42
        }
      ]
    },
    {
      "metadata": {
        "id": "BI5G69bmavLU",
        "colab_type": "code",
        "colab": {
          "base_uri": "https://localhost:8080/",
          "height": 35
        },
        "outputId": "7b6fb01d-bcd5-4008-fdac-3b24a9e8e52e"
      },
      "cell_type": "code",
      "source": [
        "'{} is an {} language!'.format('Python', 'amazing')"
      ],
      "execution_count": 0,
      "outputs": [
        {
          "output_type": "execute_result",
          "data": {
            "text/plain": [
              "'Python is an amazing language!'"
            ]
          },
          "metadata": {
            "tags": []
          },
          "execution_count": 43
        }
      ]
    },
    {
      "metadata": {
        "id": "CFrgGQCxa4CI",
        "colab_type": "code",
        "colab": {
          "base_uri": "https://localhost:8080/",
          "height": 35
        },
        "outputId": "454d4972-e8cd-4a61-c3bc-1e881bb428f0"
      },
      "cell_type": "code",
      "source": [
        "'I rate {} as {} out of 5.'.format('Python', 5)"
      ],
      "execution_count": 0,
      "outputs": [
        {
          "output_type": "execute_result",
          "data": {
            "text/plain": [
              "'I rate Python as 5 out of 5.'"
            ]
          },
          "metadata": {
            "tags": []
          },
          "execution_count": 44
        }
      ]
    },
    {
      "metadata": {
        "id": "BU9zWYKza_sL",
        "colab_type": "code",
        "colab": {
          "base_uri": "https://localhost:8080/",
          "height": 35
        },
        "outputId": "b04c66db-2779-4231-e614-7d23e71fe07b"
      },
      "cell_type": "code",
      "source": [
        "'I rate {language} as {rating} out of 5.'.format(rating=5, language='Python')"
      ],
      "execution_count": 0,
      "outputs": [
        {
          "output_type": "execute_result",
          "data": {
            "text/plain": [
              "'I rate Python as 5 out of 5.'"
            ]
          },
          "metadata": {
            "tags": []
          },
          "execution_count": 45
        }
      ]
    },
    {
      "metadata": {
        "id": "zNvyt9fqbHyX",
        "colab_type": "code",
        "colab": {
          "base_uri": "https://localhost:8080/",
          "height": 35
        },
        "outputId": "5438e14f-a42e-4987-ec58-3374cd89c36c"
      },
      "cell_type": "code",
      "source": [
        "'I rate {1} as {0} out of 5.'.format(5, 'Python')"
      ],
      "execution_count": 0,
      "outputs": [
        {
          "output_type": "execute_result",
          "data": {
            "text/plain": [
              "'I rate Python as 5 out of 5.'"
            ]
          },
          "metadata": {
            "tags": []
          },
          "execution_count": 46
        }
      ]
    },
    {
      "metadata": {
        "id": "qemrIY79bPPj",
        "colab_type": "code",
        "colab": {
          "base_uri": "https://localhost:8080/",
          "height": 35
        },
        "outputId": "c6edca8e-a06b-4b45-b9b7-831a124aa79a"
      },
      "cell_type": "code",
      "source": [
        "'I rate {1} as {0} out of 5. I love {1}'.format(5, 'Python')"
      ],
      "execution_count": 0,
      "outputs": [
        {
          "output_type": "execute_result",
          "data": {
            "text/plain": [
              "'I rate Python as 5 out of 5. I love Python'"
            ]
          },
          "metadata": {
            "tags": []
          },
          "execution_count": 47
        }
      ]
    },
    {
      "metadata": {
        "id": "ueVhnh3mbWO7",
        "colab_type": "code",
        "colab": {
          "base_uri": "https://localhost:8080/",
          "height": 35
        },
        "outputId": "83238f87-bc95-41e6-bad0-a4c0715e13aa"
      },
      "cell_type": "code",
      "source": [
        "'I rate {language} as {} out of 5. I love {language}'.format(5, language='Python')"
      ],
      "execution_count": 0,
      "outputs": [
        {
          "output_type": "execute_result",
          "data": {
            "text/plain": [
              "'I rate Python as 5 out of 5. I love Python'"
            ]
          },
          "metadata": {
            "tags": []
          },
          "execution_count": 48
        }
      ]
    },
    {
      "metadata": {
        "id": "Hg36IyuRbd15",
        "colab_type": "code",
        "colab": {
          "base_uri": "https://localhost:8080/",
          "height": 35
        },
        "outputId": "a3f058a4-2f93-4025-ca85-f224f5a76d0f"
      },
      "cell_type": "code",
      "source": [
        "print(\"I ate {0:f} percent of a {1}!\".format(75, \"salad\"))"
      ],
      "execution_count": 0,
      "outputs": [
        {
          "output_type": "stream",
          "text": [
            "I ate 75.000000 percent of a salad!\n"
          ],
          "name": "stdout"
        }
      ]
    },
    {
      "metadata": {
        "id": "NFYurXaMbkz7",
        "colab_type": "code",
        "colab": {
          "base_uri": "https://localhost:8080/",
          "height": 35
        },
        "outputId": "e48b87f3-c17a-4501-b42f-59322b9288c2"
      },
      "cell_type": "code",
      "source": [
        "print(\"I ate {0:.3f}% of a salad!\".format(5/7*100))"
      ],
      "execution_count": 0,
      "outputs": [
        {
          "output_type": "stream",
          "text": [
            "Sammy ate 71.429% of a salad!\n"
          ],
          "name": "stdout"
        }
      ]
    },
    {
      "metadata": {
        "id": "nsHltgNRbqD2",
        "colab_type": "code",
        "colab": {
          "base_uri": "https://localhost:8080/",
          "height": 35
        },
        "outputId": "f969857c-fb1c-4c4f-b09d-a9887e064ee6"
      },
      "cell_type": "code",
      "source": [
        "print(\"I ate {:07.3f}% of a {}!\".format(75.765367, 'Salad'))"
      ],
      "execution_count": 0,
      "outputs": [
        {
          "output_type": "stream",
          "text": [
            "I ate 075.765% of a Salad!\n"
          ],
          "name": "stdout"
        }
      ]
    },
    {
      "metadata": {
        "id": "xW6tpjuMb4nb",
        "colab_type": "code",
        "colab": {
          "base_uri": "https://localhost:8080/",
          "height": 35
        },
        "outputId": "07033e05-9ccb-42a2-cf2c-8e594e007fcf"
      },
      "cell_type": "code",
      "source": [
        "print(\"I ate {:03.0f}% of a {}!\".format(75.765367, 'Salad'))"
      ],
      "execution_count": 0,
      "outputs": [
        {
          "output_type": "stream",
          "text": [
            "I ate 076% of a Salad!\n"
          ],
          "name": "stdout"
        }
      ]
    },
    {
      "metadata": {
        "id": "J31GvRDWcUq-",
        "colab_type": "code",
        "colab": {
          "base_uri": "https://localhost:8080/",
          "height": 35
        },
        "outputId": "5e6b8309-b66a-4119-8247-eeb08471130e"
      },
      "cell_type": "code",
      "source": [
        "print(\"I have {0:4} amazing {1:16}!\".format(1, \"computer\"))"
      ],
      "execution_count": 0,
      "outputs": [
        {
          "output_type": "stream",
          "text": [
            "I have    1 amazing computer        !\n"
          ],
          "name": "stdout"
        }
      ]
    },
    {
      "metadata": {
        "id": "qsqEpT7Zcov7",
        "colab_type": "code",
        "colab": {
          "base_uri": "https://localhost:8080/",
          "height": 35
        },
        "outputId": "390b2b79-5d8e-46de-b0ea-673ce7406ca8"
      },
      "cell_type": "code",
      "source": [
        "print(\"{2:>7} have {0:<4} amazing {1:^16}!\".format(1, \"computer\", 'I'))"
      ],
      "execution_count": 0,
      "outputs": [
        {
          "output_type": "stream",
          "text": [
            "      I have 1    amazing     computer    !\n"
          ],
          "name": "stdout"
        }
      ]
    },
    {
      "metadata": {
        "id": "dRZ8SSDQc1rg",
        "colab_type": "code",
        "colab": {
          "base_uri": "https://localhost:8080/",
          "height": 35
        },
        "outputId": "95882753-bf4c-42f4-87f9-0bc5fcab7d81"
      },
      "cell_type": "code",
      "source": [
        "print(\"{:*^20s}\".format(\"Gagan\"))"
      ],
      "execution_count": 0,
      "outputs": [
        {
          "output_type": "stream",
          "text": [
            "*******Gagan********\n"
          ],
          "name": "stdout"
        }
      ]
    },
    {
      "metadata": {
        "id": "qMk9VUKxc6VH",
        "colab_type": "code",
        "colab": {
          "base_uri": "https://localhost:8080/",
          "height": 35
        },
        "outputId": "d018d7ab-a590-404e-db6c-0df4a6eacc5b"
      },
      "cell_type": "code",
      "source": [
        "nComp = 1\n",
        "print(\"I have {0:4} amazing {1:16}!\".format(nComp, \"computer\"))"
      ],
      "execution_count": 0,
      "outputs": [
        {
          "output_type": "stream",
          "text": [
            "I have    1 amazing computer        !\n"
          ],
          "name": "stdout"
        }
      ]
    },
    {
      "metadata": {
        "id": "GvjZWNiddaYC",
        "colab_type": "text"
      },
      "cell_type": "markdown",
      "source": [
        "## Python Data Types and Structures\n",
        "\n",
        "Python has various data types and data structures."
      ]
    },
    {
      "metadata": {
        "id": "7oQgY6DshpZY",
        "colab_type": "text"
      },
      "cell_type": "markdown",
      "source": [
        "### Data Types\n",
        "\n",
        "- Integers\n",
        "  - Binary\n",
        "  - Octal\n",
        "  - Hexadecimal\n",
        "  - Decimal\n",
        "- Floating Point (Floats)\n",
        "  - Exponent\n",
        "  - Infinite\n",
        "- Complex Numbers\n",
        "- Strings\n",
        "  - Escape characters\n",
        "    - \\'\n",
        "    - \\\"\n",
        "    - \\\\\n",
        "    - \\n\n",
        "    - \\t\n",
        "    - \\a\n",
        "    - \\b\n",
        "    - \\f\n",
        "    - \\N{name}\n",
        "    - \\r\n",
        "    - \\uxxxx\n",
        "    - \\Uxxxxxxxx\n",
        "    - \\v\n",
        "    - \\ooo\n",
        "    - \\xhh\n",
        "- Boolean (Bool)"
      ]
    },
    {
      "metadata": {
        "id": "T6vhLVvgdKwk",
        "colab_type": "code",
        "colab": {
          "base_uri": "https://localhost:8080/",
          "height": 35
        },
        "outputId": "2f98b625-eb01-43ec-d981-88a31ded8a9b"
      },
      "cell_type": "code",
      "source": [
        "1  # Decimal"
      ],
      "execution_count": 0,
      "outputs": [
        {
          "output_type": "execute_result",
          "data": {
            "text/plain": [
              "1"
            ]
          },
          "metadata": {
            "tags": []
          },
          "execution_count": 69
        }
      ]
    },
    {
      "metadata": {
        "id": "9QTGFj43fnyk",
        "colab_type": "code",
        "colab": {
          "base_uri": "https://localhost:8080/",
          "height": 35
        },
        "outputId": "731dc087-df6e-4052-fc63-d85e8ae5b8e3"
      },
      "cell_type": "code",
      "source": [
        "0b10  # Binary"
      ],
      "execution_count": 0,
      "outputs": [
        {
          "output_type": "execute_result",
          "data": {
            "text/plain": [
              "2"
            ]
          },
          "metadata": {
            "tags": []
          },
          "execution_count": 70
        }
      ]
    },
    {
      "metadata": {
        "id": "8gXR_I_gfqI_",
        "colab_type": "code",
        "colab": {
          "base_uri": "https://localhost:8080/",
          "height": 35
        },
        "outputId": "45895c95-0fe8-4bda-b005-8026b009d163"
      },
      "cell_type": "code",
      "source": [
        "0x10  # Hexadecimal"
      ],
      "execution_count": 0,
      "outputs": [
        {
          "output_type": "execute_result",
          "data": {
            "text/plain": [
              "16"
            ]
          },
          "metadata": {
            "tags": []
          },
          "execution_count": 71
        }
      ]
    },
    {
      "metadata": {
        "id": "ulMwEa7vfsVE",
        "colab_type": "code",
        "colab": {
          "base_uri": "https://localhost:8080/",
          "height": 35
        },
        "outputId": "4298fe4c-f514-4f98-e989-e38f0ba15b57"
      },
      "cell_type": "code",
      "source": [
        "0o10  # Octal"
      ],
      "execution_count": 0,
      "outputs": [
        {
          "output_type": "execute_result",
          "data": {
            "text/plain": [
              "8"
            ]
          },
          "metadata": {
            "tags": []
          },
          "execution_count": 72
        }
      ]
    },
    {
      "metadata": {
        "id": "KYALTSgzfyD6",
        "colab_type": "code",
        "colab": {
          "base_uri": "https://localhost:8080/",
          "height": 35
        },
        "outputId": "644ea678-1fea-4512-809e-678ae4c0a55b"
      },
      "cell_type": "code",
      "source": [
        "1.234"
      ],
      "execution_count": 0,
      "outputs": [
        {
          "output_type": "execute_result",
          "data": {
            "text/plain": [
              "1.234"
            ]
          },
          "metadata": {
            "tags": []
          },
          "execution_count": 73
        }
      ]
    },
    {
      "metadata": {
        "id": "K5v5XRc9f73y",
        "colab_type": "code",
        "colab": {
          "base_uri": "https://localhost:8080/",
          "height": 35
        },
        "outputId": "083bb4f6-d8e4-4a86-f774-63b92ec694e0"
      },
      "cell_type": "code",
      "source": [
        "1.2e2"
      ],
      "execution_count": 0,
      "outputs": [
        {
          "output_type": "execute_result",
          "data": {
            "text/plain": [
              "120.0"
            ]
          },
          "metadata": {
            "tags": []
          },
          "execution_count": 74
        }
      ]
    },
    {
      "metadata": {
        "id": "qGdIvAQ-f9Z6",
        "colab_type": "code",
        "colab": {
          "base_uri": "https://localhost:8080/",
          "height": 35
        },
        "outputId": "3cec0712-ffb8-4692-d989-bc6f4b4eb2cb"
      },
      "cell_type": "code",
      "source": [
        "1.4536e-2"
      ],
      "execution_count": 0,
      "outputs": [
        {
          "output_type": "execute_result",
          "data": {
            "text/plain": [
              "0.014536"
            ]
          },
          "metadata": {
            "tags": []
          },
          "execution_count": 75
        }
      ]
    },
    {
      "metadata": {
        "id": "1zsq7dbDf_A5",
        "colab_type": "code",
        "colab": {
          "base_uri": "https://localhost:8080/",
          "height": 35
        },
        "outputId": "d1e86b56-4e3a-4b8c-c960-fbe8b4056e21"
      },
      "cell_type": "code",
      "source": [
        "1.79e308"
      ],
      "execution_count": 0,
      "outputs": [
        {
          "output_type": "execute_result",
          "data": {
            "text/plain": [
              "1.79e+308"
            ]
          },
          "metadata": {
            "tags": []
          },
          "execution_count": 76
        }
      ]
    },
    {
      "metadata": {
        "id": "SsXwnNXfgCuX",
        "colab_type": "code",
        "colab": {
          "base_uri": "https://localhost:8080/",
          "height": 35
        },
        "outputId": "89f2a85f-c94e-4f05-8f23-f9fdee7f0261"
      },
      "cell_type": "code",
      "source": [
        "1.8e308"
      ],
      "execution_count": 0,
      "outputs": [
        {
          "output_type": "execute_result",
          "data": {
            "text/plain": [
              "inf"
            ]
          },
          "metadata": {
            "tags": []
          },
          "execution_count": 77
        }
      ]
    },
    {
      "metadata": {
        "id": "hiy7kHlOgDkt",
        "colab_type": "code",
        "colab": {
          "base_uri": "https://localhost:8080/",
          "height": 35
        },
        "outputId": "41919714-2910-40e1-c25e-a84aff18dc78"
      },
      "cell_type": "code",
      "source": [
        "5e-324"
      ],
      "execution_count": 0,
      "outputs": [
        {
          "output_type": "execute_result",
          "data": {
            "text/plain": [
              "5e-324"
            ]
          },
          "metadata": {
            "tags": []
          },
          "execution_count": 80
        }
      ]
    },
    {
      "metadata": {
        "id": "ZAPSfRSPgKYn",
        "colab_type": "code",
        "colab": {
          "base_uri": "https://localhost:8080/",
          "height": 35
        },
        "outputId": "4b0d49c6-9582-4ffb-dc75-b2022b8329f5"
      },
      "cell_type": "code",
      "source": [
        "1e-325"
      ],
      "execution_count": 0,
      "outputs": [
        {
          "output_type": "execute_result",
          "data": {
            "text/plain": [
              "0.0"
            ]
          },
          "metadata": {
            "tags": []
          },
          "execution_count": 81
        }
      ]
    },
    {
      "metadata": {
        "id": "PEAj6F-6gLXW",
        "colab_type": "code",
        "colab": {
          "base_uri": "https://localhost:8080/",
          "height": 35
        },
        "outputId": "98928929-410f-4479-be38-34a530b8a2b7"
      },
      "cell_type": "code",
      "source": [
        "2 + 3j"
      ],
      "execution_count": 0,
      "outputs": [
        {
          "output_type": "execute_result",
          "data": {
            "text/plain": [
              "(2+3j)"
            ]
          },
          "metadata": {
            "tags": []
          },
          "execution_count": 82
        }
      ]
    },
    {
      "metadata": {
        "id": "wPfY4jmEgQt2",
        "colab_type": "code",
        "colab": {
          "base_uri": "https://localhost:8080/",
          "height": 35
        },
        "outputId": "06185d07-2c83-4021-9804-18980e804be0"
      },
      "cell_type": "code",
      "source": [
        "'This is a string'"
      ],
      "execution_count": 0,
      "outputs": [
        {
          "output_type": "execute_result",
          "data": {
            "text/plain": [
              "'This is a string'"
            ]
          },
          "metadata": {
            "tags": []
          },
          "execution_count": 83
        }
      ]
    },
    {
      "metadata": {
        "id": "MSus1PwhgUIr",
        "colab_type": "code",
        "colab": {
          "base_uri": "https://localhost:8080/",
          "height": 35
        },
        "outputId": "5d25ce82-1e07-4bc6-f201-5cee27ad2bc1"
      },
      "cell_type": "code",
      "source": [
        "'this is a single quote \\''"
      ],
      "execution_count": 0,
      "outputs": [
        {
          "output_type": "execute_result",
          "data": {
            "text/plain": [
              "\"this is a single quote '\""
            ]
          },
          "metadata": {
            "tags": []
          },
          "execution_count": 84
        }
      ]
    },
    {
      "metadata": {
        "id": "dm18DOrIgaeX",
        "colab_type": "code",
        "colab": {
          "base_uri": "https://localhost:8080/",
          "height": 35
        },
        "outputId": "8347c4b5-ed70-4bea-b55a-6eaf0d4451da"
      },
      "cell_type": "code",
      "source": [
        "'this is a double quote \\\"'"
      ],
      "execution_count": 0,
      "outputs": [
        {
          "output_type": "execute_result",
          "data": {
            "text/plain": [
              "'this is a double quote \"'"
            ]
          },
          "metadata": {
            "tags": []
          },
          "execution_count": 85
        }
      ]
    },
    {
      "metadata": {
        "id": "6yvdGT1NgfHr",
        "colab_type": "code",
        "colab": {
          "base_uri": "https://localhost:8080/",
          "height": 53
        },
        "outputId": "02cbda8e-63dd-4e94-d464-4c487ab885b4"
      },
      "cell_type": "code",
      "source": [
        "print('I can separate this\\ninto 2 lines')"
      ],
      "execution_count": 0,
      "outputs": [
        {
          "output_type": "stream",
          "text": [
            "I can separate this\n",
            "into 2 lines\n"
          ],
          "name": "stdout"
        }
      ]
    },
    {
      "metadata": {
        "id": "xAtKAD5Egiwz",
        "colab_type": "code",
        "colab": {
          "base_uri": "https://localhost:8080/",
          "height": 35
        },
        "outputId": "045c7976-20af-4fd1-843c-19e36f9c4987"
      },
      "cell_type": "code",
      "source": [
        "print('What if I want a backlash \\\\')"
      ],
      "execution_count": 0,
      "outputs": [
        {
          "output_type": "stream",
          "text": [
            "What if I want a backlash \\\n"
          ],
          "name": "stdout"
        }
      ]
    },
    {
      "metadata": {
        "id": "rCnC-O6SgqlU",
        "colab_type": "code",
        "colab": {
          "base_uri": "https://localhost:8080/",
          "height": 35
        },
        "outputId": "8da8b066-196c-40ff-a9d3-5391ed603d6b"
      },
      "cell_type": "code",
      "source": [
        "print('One\\tTwo')"
      ],
      "execution_count": 0,
      "outputs": [
        {
          "output_type": "stream",
          "text": [
            "One\tTwo\n"
          ],
          "name": "stdout"
        }
      ]
    },
    {
      "metadata": {
        "id": "2Fdml5p9gwjx",
        "colab_type": "code",
        "colab": {
          "base_uri": "https://localhost:8080/",
          "height": 35
        },
        "outputId": "ff01a191-0198-45fc-e6e7-66b068b36d78"
      },
      "cell_type": "code",
      "source": [
        "print('Values\\b Like this')"
      ],
      "execution_count": 0,
      "outputs": [
        {
          "output_type": "stream",
          "text": [
            "Values\b Like this\n"
          ],
          "name": "stdout"
        }
      ]
    },
    {
      "metadata": {
        "id": "r5LMgLFMg6MI",
        "colab_type": "code",
        "colab": {
          "base_uri": "https://localhost:8080/",
          "height": 35
        },
        "outputId": "54113a64-81af-4e80-a7ba-b02bb86f5eb9"
      },
      "cell_type": "code",
      "source": [
        "print('\\u2192 \\N{rightwards arrow}')"
      ],
      "execution_count": 0,
      "outputs": [
        {
          "output_type": "stream",
          "text": [
            "→ →\n"
          ],
          "name": "stdout"
        }
      ]
    },
    {
      "metadata": {
        "id": "_ogHqr4zhfwp",
        "colab_type": "text"
      },
      "cell_type": "markdown",
      "source": [
        "### Data Structures\n",
        "\n",
        "- Lists\n",
        "- Tuples\n",
        "- Dictionaries"
      ]
    },
    {
      "metadata": {
        "id": "begy-dByg_V_",
        "colab_type": "code",
        "colab": {
          "base_uri": "https://localhost:8080/",
          "height": 35
        },
        "outputId": "6bdb4864-305b-4f83-9ec3-3fa918b10127"
      },
      "cell_type": "code",
      "source": [
        "tup = (0, 1, 2, 3)\n",
        "tup"
      ],
      "execution_count": 0,
      "outputs": [
        {
          "output_type": "execute_result",
          "data": {
            "text/plain": [
              "(0, 1, 2, 3)"
            ]
          },
          "metadata": {
            "tags": []
          },
          "execution_count": 102
        }
      ]
    },
    {
      "metadata": {
        "id": "aURRY2Buh_cm",
        "colab_type": "code",
        "colab": {
          "base_uri": "https://localhost:8080/",
          "height": 35
        },
        "outputId": "61a54799-1f8b-457d-9b04-d2cf18204a5c"
      },
      "cell_type": "code",
      "source": [
        "lst = [0, 1, 2, 3]\n",
        "lst"
      ],
      "execution_count": 0,
      "outputs": [
        {
          "output_type": "execute_result",
          "data": {
            "text/plain": [
              "[0, 1, 2, 3]"
            ]
          },
          "metadata": {
            "tags": []
          },
          "execution_count": 103
        }
      ]
    },
    {
      "metadata": {
        "id": "p3uyGRvdiBo2",
        "colab_type": "code",
        "colab": {
          "base_uri": "https://localhost:8080/",
          "height": 35
        },
        "outputId": "748f1cb6-ece0-4510-d9ba-30264f54b374"
      },
      "cell_type": "code",
      "source": [
        "dct = {'One': 1, 'Two': 2, 3: 'Three'}\n",
        "dct"
      ],
      "execution_count": 0,
      "outputs": [
        {
          "output_type": "execute_result",
          "data": {
            "text/plain": [
              "{3: 'Three', 'One': 1, 'Two': 2}"
            ]
          },
          "metadata": {
            "tags": []
          },
          "execution_count": 104
        }
      ]
    },
    {
      "metadata": {
        "id": "bn0DaUlriPvw",
        "colab_type": "text"
      },
      "cell_type": "markdown",
      "source": [
        "## Functions"
      ]
    },
    {
      "metadata": {
        "id": "Jq3AiUsBiTNN",
        "colab_type": "text"
      },
      "cell_type": "markdown",
      "source": [
        "### InBuilt Functions"
      ]
    },
    {
      "metadata": {
        "id": "5wUxs5AHiYOF",
        "colab_type": "text"
      },
      "cell_type": "markdown",
      "source": [
        "#### Math\n",
        "\n",
        "- abs()\n",
        "- divmod()\n",
        "- max()\n",
        "- min()\n",
        "- pow()\n",
        "- round()\n",
        "- sum()"
      ]
    },
    {
      "metadata": {
        "id": "48-endD7iGJZ",
        "colab_type": "code",
        "colab": {
          "base_uri": "https://localhost:8080/",
          "height": 35
        },
        "outputId": "ae6d2e92-a1d6-44e4-953c-54ffcc2542a8"
      },
      "cell_type": "code",
      "source": [
        "abs(-3.2)"
      ],
      "execution_count": 0,
      "outputs": [
        {
          "output_type": "execute_result",
          "data": {
            "text/plain": [
              "3.2"
            ]
          },
          "metadata": {
            "tags": []
          },
          "execution_count": 105
        }
      ]
    },
    {
      "metadata": {
        "id": "ZDn5NJiWiniB",
        "colab_type": "code",
        "colab": {
          "base_uri": "https://localhost:8080/",
          "height": 35
        },
        "outputId": "f271f60e-7e7b-458b-84c2-ec19e659a8ee"
      },
      "cell_type": "code",
      "source": [
        "divmod(5, 2)"
      ],
      "execution_count": 0,
      "outputs": [
        {
          "output_type": "execute_result",
          "data": {
            "text/plain": [
              "(2, 1)"
            ]
          },
          "metadata": {
            "tags": []
          },
          "execution_count": 106
        }
      ]
    },
    {
      "metadata": {
        "id": "ogjlIocaiphV",
        "colab_type": "code",
        "colab": {
          "base_uri": "https://localhost:8080/",
          "height": 35
        },
        "outputId": "5b56dc42-d06b-4636-e347-04ace96e413b"
      },
      "cell_type": "code",
      "source": [
        "max(3, 5, 2)"
      ],
      "execution_count": 0,
      "outputs": [
        {
          "output_type": "execute_result",
          "data": {
            "text/plain": [
              "5"
            ]
          },
          "metadata": {
            "tags": []
          },
          "execution_count": 107
        }
      ]
    },
    {
      "metadata": {
        "id": "dzJgLdP_irpV",
        "colab_type": "code",
        "colab": {
          "base_uri": "https://localhost:8080/",
          "height": 35
        },
        "outputId": "87a633c8-1775-47e7-a2a0-8738690aef0c"
      },
      "cell_type": "code",
      "source": [
        "min(3, 5, 2)"
      ],
      "execution_count": 0,
      "outputs": [
        {
          "output_type": "execute_result",
          "data": {
            "text/plain": [
              "2"
            ]
          },
          "metadata": {
            "tags": []
          },
          "execution_count": 108
        }
      ]
    },
    {
      "metadata": {
        "id": "Mq8U0Dr9itCI",
        "colab_type": "code",
        "colab": {
          "base_uri": "https://localhost:8080/",
          "height": 35
        },
        "outputId": "b41c8905-2a20-426f-cc85-d26c3f033872"
      },
      "cell_type": "code",
      "source": [
        "pow(4, 3)"
      ],
      "execution_count": 0,
      "outputs": [
        {
          "output_type": "execute_result",
          "data": {
            "text/plain": [
              "64"
            ]
          },
          "metadata": {
            "tags": []
          },
          "execution_count": 109
        }
      ]
    },
    {
      "metadata": {
        "id": "7wnjMDn4ivXM",
        "colab_type": "code",
        "colab": {
          "base_uri": "https://localhost:8080/",
          "height": 35
        },
        "outputId": "37537241-50e2-450d-cbe5-7973d211172b"
      },
      "cell_type": "code",
      "source": [
        "round(5.4)"
      ],
      "execution_count": 0,
      "outputs": [
        {
          "output_type": "execute_result",
          "data": {
            "text/plain": [
              "5"
            ]
          },
          "metadata": {
            "tags": []
          },
          "execution_count": 110
        }
      ]
    },
    {
      "metadata": {
        "id": "Vm4i4UFLiw-w",
        "colab_type": "code",
        "colab": {
          "base_uri": "https://localhost:8080/",
          "height": 35
        },
        "outputId": "ce40e0f4-1c17-4a93-fd0b-7927159c2eb9"
      },
      "cell_type": "code",
      "source": [
        "round(5.5)"
      ],
      "execution_count": 0,
      "outputs": [
        {
          "output_type": "execute_result",
          "data": {
            "text/plain": [
              "6"
            ]
          },
          "metadata": {
            "tags": []
          },
          "execution_count": 111
        }
      ]
    },
    {
      "metadata": {
        "id": "K8lEyqagiyHn",
        "colab_type": "code",
        "colab": {
          "base_uri": "https://localhost:8080/",
          "height": 35
        },
        "outputId": "953bcc68-ca96-475b-f41e-3e91b830e6a1"
      },
      "cell_type": "code",
      "source": [
        "sum([5, 3])"
      ],
      "execution_count": 0,
      "outputs": [
        {
          "output_type": "execute_result",
          "data": {
            "text/plain": [
              "8"
            ]
          },
          "metadata": {
            "tags": []
          },
          "execution_count": 113
        }
      ]
    },
    {
      "metadata": {
        "id": "sbQVPq-djDEQ",
        "colab_type": "text"
      },
      "cell_type": "markdown",
      "source": [
        "#### Type Conversion\n",
        "\n",
        "- ascii()\n",
        "- bin()\n",
        "- bool()\n",
        "- chr()\n",
        "- complex()\n",
        "- float()\n",
        "- hex()\n",
        "- int()\n",
        "- oct()\n",
        "- ord()\n",
        "- repr()\n",
        "- str()\n",
        "- type()"
      ]
    },
    {
      "metadata": {
        "id": "O3ON_0R-lHgN",
        "colab_type": "code",
        "colab": {
          "base_uri": "https://localhost:8080/",
          "height": 35
        },
        "outputId": "7ecae404-290c-4c66-c078-f37063065e0a"
      },
      "cell_type": "code",
      "source": [
        "ascii('\\u0042')"
      ],
      "execution_count": 0,
      "outputs": [
        {
          "output_type": "execute_result",
          "data": {
            "text/plain": [
              "\"'B'\""
            ]
          },
          "metadata": {
            "tags": []
          },
          "execution_count": 120
        }
      ]
    },
    {
      "metadata": {
        "id": "EgW2izSclgGn",
        "colab_type": "code",
        "colab": {
          "base_uri": "https://localhost:8080/",
          "height": 35
        },
        "outputId": "055851e0-1cb0-4dac-bd6a-dadae57d90f1"
      },
      "cell_type": "code",
      "source": [
        "bin(6)"
      ],
      "execution_count": 0,
      "outputs": [
        {
          "output_type": "execute_result",
          "data": {
            "text/plain": [
              "'0b110'"
            ]
          },
          "metadata": {
            "tags": []
          },
          "execution_count": 122
        }
      ]
    },
    {
      "metadata": {
        "id": "TRabWZdLllxU",
        "colab_type": "code",
        "colab": {
          "base_uri": "https://localhost:8080/",
          "height": 35
        },
        "outputId": "906f1ab0-f277-4854-b8c3-0e71e4b4f040"
      },
      "cell_type": "code",
      "source": [
        "bool(1)"
      ],
      "execution_count": 0,
      "outputs": [
        {
          "output_type": "execute_result",
          "data": {
            "text/plain": [
              "True"
            ]
          },
          "metadata": {
            "tags": []
          },
          "execution_count": 123
        }
      ]
    },
    {
      "metadata": {
        "id": "BUpuymVSln0u",
        "colab_type": "code",
        "colab": {
          "base_uri": "https://localhost:8080/",
          "height": 35
        },
        "outputId": "38fa88c6-74bd-4689-f451-122f9ecc6f0d"
      },
      "cell_type": "code",
      "source": [
        "chr(42)"
      ],
      "execution_count": 0,
      "outputs": [
        {
          "output_type": "execute_result",
          "data": {
            "text/plain": [
              "'*'"
            ]
          },
          "metadata": {
            "tags": []
          },
          "execution_count": 124
        }
      ]
    },
    {
      "metadata": {
        "id": "Z0DJy7DllqOM",
        "colab_type": "code",
        "colab": {
          "base_uri": "https://localhost:8080/",
          "height": 35
        },
        "outputId": "f5404710-19e2-46ef-94b1-c92dbdc237e9"
      },
      "cell_type": "code",
      "source": [
        "complex(5, 3)"
      ],
      "execution_count": 0,
      "outputs": [
        {
          "output_type": "execute_result",
          "data": {
            "text/plain": [
              "(5+3j)"
            ]
          },
          "metadata": {
            "tags": []
          },
          "execution_count": 125
        }
      ]
    },
    {
      "metadata": {
        "id": "3dbZ5-OTltDt",
        "colab_type": "code",
        "colab": {
          "base_uri": "https://localhost:8080/",
          "height": 35
        },
        "outputId": "09fd76b5-3f22-498a-a8b5-73d7ab841c42"
      },
      "cell_type": "code",
      "source": [
        "float(3)"
      ],
      "execution_count": 0,
      "outputs": [
        {
          "output_type": "execute_result",
          "data": {
            "text/plain": [
              "3.0"
            ]
          },
          "metadata": {
            "tags": []
          },
          "execution_count": 126
        }
      ]
    },
    {
      "metadata": {
        "id": "K0uaLDfZlwSn",
        "colab_type": "code",
        "colab": {
          "base_uri": "https://localhost:8080/",
          "height": 35
        },
        "outputId": "908c358b-2c32-4c34-983e-7318df1dc29f"
      },
      "cell_type": "code",
      "source": [
        "hex(21)"
      ],
      "execution_count": 0,
      "outputs": [
        {
          "output_type": "execute_result",
          "data": {
            "text/plain": [
              "'0x15'"
            ]
          },
          "metadata": {
            "tags": []
          },
          "execution_count": 127
        }
      ]
    },
    {
      "metadata": {
        "id": "EVCft6a9lzD2",
        "colab_type": "code",
        "colab": {
          "base_uri": "https://localhost:8080/",
          "height": 35
        },
        "outputId": "80b96504-3405-407c-ea93-c6e53d89a298"
      },
      "cell_type": "code",
      "source": [
        "int(2.1)"
      ],
      "execution_count": 0,
      "outputs": [
        {
          "output_type": "execute_result",
          "data": {
            "text/plain": [
              "2"
            ]
          },
          "metadata": {
            "tags": []
          },
          "execution_count": 129
        }
      ]
    },
    {
      "metadata": {
        "id": "hatC8Kq4l5lv",
        "colab_type": "code",
        "colab": {
          "base_uri": "https://localhost:8080/",
          "height": 35
        },
        "outputId": "63425600-8c02-4045-b7ea-ce9c7918ca05"
      },
      "cell_type": "code",
      "source": [
        "oct(12)"
      ],
      "execution_count": 0,
      "outputs": [
        {
          "output_type": "execute_result",
          "data": {
            "text/plain": [
              "'0o14'"
            ]
          },
          "metadata": {
            "tags": []
          },
          "execution_count": 130
        }
      ]
    },
    {
      "metadata": {
        "id": "mXftw8V8l9m-",
        "colab_type": "code",
        "colab": {
          "base_uri": "https://localhost:8080/",
          "height": 35
        },
        "outputId": "f19c8e4d-3b15-444f-a5c5-ffb0aaf3080b"
      },
      "cell_type": "code",
      "source": [
        "ord('A')"
      ],
      "execution_count": 0,
      "outputs": [
        {
          "output_type": "execute_result",
          "data": {
            "text/plain": [
              "65"
            ]
          },
          "metadata": {
            "tags": []
          },
          "execution_count": 132
        }
      ]
    },
    {
      "metadata": {
        "id": "Q5t2cGSFmCDC",
        "colab_type": "code",
        "colab": {
          "base_uri": "https://localhost:8080/",
          "height": 35
        },
        "outputId": "2755c2ff-76c8-4ea4-82bf-a416d4bab3a7"
      },
      "cell_type": "code",
      "source": [
        "repr(int)"
      ],
      "execution_count": 0,
      "outputs": [
        {
          "output_type": "execute_result",
          "data": {
            "text/plain": [
              "\"<class 'int'>\""
            ]
          },
          "metadata": {
            "tags": []
          },
          "execution_count": 133
        }
      ]
    },
    {
      "metadata": {
        "id": "1WmlLtR0mFZ7",
        "colab_type": "code",
        "colab": {
          "base_uri": "https://localhost:8080/",
          "height": 35
        },
        "outputId": "2950b1aa-95ef-48c2-9d6c-2bc8d5102f1e"
      },
      "cell_type": "code",
      "source": [
        "str(3 + 5 + 6j)"
      ],
      "execution_count": 0,
      "outputs": [
        {
          "output_type": "execute_result",
          "data": {
            "text/plain": [
              "'(8+6j)'"
            ]
          },
          "metadata": {
            "tags": []
          },
          "execution_count": 134
        }
      ]
    },
    {
      "metadata": {
        "id": "zAqgblBvmL0w",
        "colab_type": "code",
        "colab": {
          "base_uri": "https://localhost:8080/",
          "height": 35
        },
        "outputId": "bb040381-f534-4158-b8a9-e8f31901c4dc"
      },
      "cell_type": "code",
      "source": [
        "type(3)"
      ],
      "execution_count": 0,
      "outputs": [
        {
          "output_type": "execute_result",
          "data": {
            "text/plain": [
              "int"
            ]
          },
          "metadata": {
            "tags": []
          },
          "execution_count": 135
        }
      ]
    },
    {
      "metadata": {
        "id": "63RLtDncjJNl",
        "colab_type": "text"
      },
      "cell_type": "markdown",
      "source": [
        "#### Iterables and Iterators\n",
        "\n",
        "- all()\n",
        "- any()\n",
        "- enumerate()\n",
        "- filter()\n",
        "- iter()\n",
        "- len()\n",
        "- map()\n",
        "- next()\n",
        "- range()\n",
        "- reversed()\n",
        "- slice()\n",
        "- sorted()\n",
        "- zip()"
      ]
    },
    {
      "metadata": {
        "id": "37Bb2QB0mOwI",
        "colab_type": "code",
        "colab": {
          "base_uri": "https://localhost:8080/",
          "height": 35
        },
        "outputId": "6b1d11eb-3469-4760-9171-7b28e11a8341"
      },
      "cell_type": "code",
      "source": [
        "all([True, False])"
      ],
      "execution_count": 0,
      "outputs": [
        {
          "output_type": "execute_result",
          "data": {
            "text/plain": [
              "False"
            ]
          },
          "metadata": {
            "tags": []
          },
          "execution_count": 136
        }
      ]
    },
    {
      "metadata": {
        "id": "Zbz4RoHgmRKX",
        "colab_type": "code",
        "colab": {
          "base_uri": "https://localhost:8080/",
          "height": 35
        },
        "outputId": "34b075ff-331f-4204-f10e-07ce4013dbf8"
      },
      "cell_type": "code",
      "source": [
        "any([True, False])"
      ],
      "execution_count": 0,
      "outputs": [
        {
          "output_type": "execute_result",
          "data": {
            "text/plain": [
              "True"
            ]
          },
          "metadata": {
            "tags": []
          },
          "execution_count": 137
        }
      ]
    },
    {
      "metadata": {
        "id": "0Inoud4AmUPZ",
        "colab_type": "code",
        "colab": {
          "base_uri": "https://localhost:8080/",
          "height": 35
        },
        "outputId": "b87a325a-85f0-41c2-f0ca-d3990a24a80e"
      },
      "cell_type": "code",
      "source": [
        "enumerate(['A', 'B'])"
      ],
      "execution_count": 0,
      "outputs": [
        {
          "output_type": "execute_result",
          "data": {
            "text/plain": [
              "<enumerate at 0x7fa6bb258ca8>"
            ]
          },
          "metadata": {
            "tags": []
          },
          "execution_count": 138
        }
      ]
    },
    {
      "metadata": {
        "id": "_o8f-HJzmYb3",
        "colab_type": "code",
        "colab": {
          "base_uri": "https://localhost:8080/",
          "height": 35
        },
        "outputId": "bf11961e-e964-4577-c1b2-80948d3932d9"
      },
      "cell_type": "code",
      "source": [
        "list(enumerate(['A', 'B']))"
      ],
      "execution_count": 0,
      "outputs": [
        {
          "output_type": "execute_result",
          "data": {
            "text/plain": [
              "[(0, 'A'), (1, 'B')]"
            ]
          },
          "metadata": {
            "tags": []
          },
          "execution_count": 139
        }
      ]
    },
    {
      "metadata": {
        "id": "G4zmiJywmcx3",
        "colab_type": "code",
        "colab": {
          "base_uri": "https://localhost:8080/",
          "height": 35
        },
        "outputId": "88e5fc4d-5f63-410c-89d4-4498c965dc3f"
      },
      "cell_type": "code",
      "source": [
        "filter(lambda x: x%3==1, [1, 2, 3, 4, 5])"
      ],
      "execution_count": 0,
      "outputs": [
        {
          "output_type": "execute_result",
          "data": {
            "text/plain": [
              "<filter at 0x7fa6bb2b4400>"
            ]
          },
          "metadata": {
            "tags": []
          },
          "execution_count": 141
        }
      ]
    },
    {
      "metadata": {
        "id": "u54dqfXzmld9",
        "colab_type": "code",
        "colab": {
          "base_uri": "https://localhost:8080/",
          "height": 35
        },
        "outputId": "8955cc43-cb87-43cd-f62d-5fcc8076f74b"
      },
      "cell_type": "code",
      "source": [
        "list(filter(lambda x: x%3==1, [1, 2, 3, 4, 5]))"
      ],
      "execution_count": 0,
      "outputs": [
        {
          "output_type": "execute_result",
          "data": {
            "text/plain": [
              "[1, 4]"
            ]
          },
          "metadata": {
            "tags": []
          },
          "execution_count": 142
        }
      ]
    },
    {
      "metadata": {
        "id": "zRhm6FzCmpQj",
        "colab_type": "code",
        "colab": {
          "base_uri": "https://localhost:8080/",
          "height": 35
        },
        "outputId": "88baaac5-9109-4062-fc01-b85cc042a9f2"
      },
      "cell_type": "code",
      "source": [
        "iter([1, 2, 3])"
      ],
      "execution_count": 0,
      "outputs": [
        {
          "output_type": "execute_result",
          "data": {
            "text/plain": [
              "<list_iterator at 0x7fa6bb246e80>"
            ]
          },
          "metadata": {
            "tags": []
          },
          "execution_count": 143
        }
      ]
    },
    {
      "metadata": {
        "id": "6WyOUCvcmrxS",
        "colab_type": "code",
        "colab": {
          "base_uri": "https://localhost:8080/",
          "height": 35
        },
        "outputId": "55572906-c271-4470-8b4b-5917cf8e2710"
      },
      "cell_type": "code",
      "source": [
        "list(iter([1, 2, 3]))"
      ],
      "execution_count": 0,
      "outputs": [
        {
          "output_type": "execute_result",
          "data": {
            "text/plain": [
              "[1, 2, 3]"
            ]
          },
          "metadata": {
            "tags": []
          },
          "execution_count": 144
        }
      ]
    },
    {
      "metadata": {
        "id": "3Sl0fcvfmuj_",
        "colab_type": "code",
        "colab": {
          "base_uri": "https://localhost:8080/",
          "height": 35
        },
        "outputId": "7b6316df-dd67-45ce-9eb0-7bc76f70415b"
      },
      "cell_type": "code",
      "source": [
        "len([1, 2, 4, 7])"
      ],
      "execution_count": 0,
      "outputs": [
        {
          "output_type": "execute_result",
          "data": {
            "text/plain": [
              "4"
            ]
          },
          "metadata": {
            "tags": []
          },
          "execution_count": 145
        }
      ]
    },
    {
      "metadata": {
        "id": "U8EVTCUgmzaP",
        "colab_type": "code",
        "colab": {
          "base_uri": "https://localhost:8080/",
          "height": 35
        },
        "outputId": "10afd997-107c-4ded-8445-0e2b79f61f5f"
      },
      "cell_type": "code",
      "source": [
        "map(lambda x: x**2, [1, 2, 3, 6])"
      ],
      "execution_count": 0,
      "outputs": [
        {
          "output_type": "execute_result",
          "data": {
            "text/plain": [
              "<map at 0x7fa6bb28d080>"
            ]
          },
          "metadata": {
            "tags": []
          },
          "execution_count": 146
        }
      ]
    },
    {
      "metadata": {
        "id": "gAd5KFrPm35P",
        "colab_type": "code",
        "colab": {
          "base_uri": "https://localhost:8080/",
          "height": 35
        },
        "outputId": "99ccd992-8ddd-49bb-b881-70b60807f60c"
      },
      "cell_type": "code",
      "source": [
        "list(map(lambda x: x**2, [1, 2, 3, 6]))"
      ],
      "execution_count": 0,
      "outputs": [
        {
          "output_type": "execute_result",
          "data": {
            "text/plain": [
              "[1, 4, 9, 36]"
            ]
          },
          "metadata": {
            "tags": []
          },
          "execution_count": 147
        }
      ]
    },
    {
      "metadata": {
        "id": "T35ExzPQm5zP",
        "colab_type": "code",
        "colab": {
          "base_uri": "https://localhost:8080/",
          "height": 35
        },
        "outputId": "e425d640-4322-416a-bb10-971fb8d20832"
      },
      "cell_type": "code",
      "source": [
        "next(iter([1, 5, 3, 6]))"
      ],
      "execution_count": 0,
      "outputs": [
        {
          "output_type": "execute_result",
          "data": {
            "text/plain": [
              "1"
            ]
          },
          "metadata": {
            "tags": []
          },
          "execution_count": 149
        }
      ]
    },
    {
      "metadata": {
        "id": "J0Bvy1oonBFy",
        "colab_type": "code",
        "colab": {
          "base_uri": "https://localhost:8080/",
          "height": 35
        },
        "outputId": "eb910d43-de47-4227-b0d2-390f878f9254"
      },
      "cell_type": "code",
      "source": [
        "list(range(5))"
      ],
      "execution_count": 0,
      "outputs": [
        {
          "output_type": "execute_result",
          "data": {
            "text/plain": [
              "[0, 1, 2, 3, 4]"
            ]
          },
          "metadata": {
            "tags": []
          },
          "execution_count": 153
        }
      ]
    },
    {
      "metadata": {
        "id": "m5BCAVu8nFo_",
        "colab_type": "code",
        "colab": {
          "base_uri": "https://localhost:8080/",
          "height": 35
        },
        "outputId": "f727eb9c-9033-4014-b1ad-af8050c0c627"
      },
      "cell_type": "code",
      "source": [
        "list(range(1, 5))"
      ],
      "execution_count": 0,
      "outputs": [
        {
          "output_type": "execute_result",
          "data": {
            "text/plain": [
              "[1, 2, 3, 4]"
            ]
          },
          "metadata": {
            "tags": []
          },
          "execution_count": 154
        }
      ]
    },
    {
      "metadata": {
        "id": "TnYEE9_tnHhy",
        "colab_type": "code",
        "colab": {
          "base_uri": "https://localhost:8080/",
          "height": 35
        },
        "outputId": "2fd8ffdd-34a6-45ee-c520-ad8f5fdadcc2"
      },
      "cell_type": "code",
      "source": [
        "list(range(1, 6, 2))"
      ],
      "execution_count": 0,
      "outputs": [
        {
          "output_type": "execute_result",
          "data": {
            "text/plain": [
              "[1, 3, 5]"
            ]
          },
          "metadata": {
            "tags": []
          },
          "execution_count": 155
        }
      ]
    },
    {
      "metadata": {
        "id": "3yt5a8_ZnTfD",
        "colab_type": "code",
        "colab": {
          "base_uri": "https://localhost:8080/",
          "height": 35
        },
        "outputId": "92e7544a-5478-4cd4-ed19-c911e6c4b884"
      },
      "cell_type": "code",
      "source": [
        "list(reversed([1, 4, 3, 5]))"
      ],
      "execution_count": 0,
      "outputs": [
        {
          "output_type": "execute_result",
          "data": {
            "text/plain": [
              "[5, 3, 4, 1]"
            ]
          },
          "metadata": {
            "tags": []
          },
          "execution_count": 157
        }
      ]
    },
    {
      "metadata": {
        "id": "lLLlU1gbnYi6",
        "colab_type": "code",
        "colab": {
          "base_uri": "https://localhost:8080/",
          "height": 35
        },
        "outputId": "cca29e3e-ed90-4145-e9e4-e34fc93c9de9"
      },
      "cell_type": "code",
      "source": [
        "sorted([4, 3, 6, 2, 8])"
      ],
      "execution_count": 0,
      "outputs": [
        {
          "output_type": "execute_result",
          "data": {
            "text/plain": [
              "[2, 3, 4, 6, 8]"
            ]
          },
          "metadata": {
            "tags": []
          },
          "execution_count": 161
        }
      ]
    },
    {
      "metadata": {
        "id": "_uR8PDfEovrd",
        "colab_type": "code",
        "colab": {
          "base_uri": "https://localhost:8080/",
          "height": 35
        },
        "outputId": "0ee243c8-3b57-4077-ed1d-69fc945c80a1"
      },
      "cell_type": "code",
      "source": [
        "list(zip([1, 2, 3, 4], ['A', 'B', 'C']))"
      ],
      "execution_count": 0,
      "outputs": [
        {
          "output_type": "execute_result",
          "data": {
            "text/plain": [
              "[(1, 'A'), (2, 'B'), (3, 'C')]"
            ]
          },
          "metadata": {
            "tags": []
          },
          "execution_count": 163
        }
      ]
    },
    {
      "metadata": {
        "id": "ziHcI0RTjJcl",
        "colab_type": "text"
      },
      "cell_type": "markdown",
      "source": [
        "#### Composite Data Type\n",
        "\n",
        "- bytearray()\n",
        "- bytes()\n",
        "- dict()\n",
        "- frozenset()\n",
        "- list()\n",
        "- object()\n",
        "- set()\n",
        "- tuple()"
      ]
    },
    {
      "metadata": {
        "id": "aQLvVgRijJ2g",
        "colab_type": "text"
      },
      "cell_type": "markdown",
      "source": [
        "#### Classes, Attributes, and Inheritance\n",
        "\n",
        "- classmethod()\n",
        "- delattr()\n",
        "- getattr()\n",
        "- hasattr()\n",
        "- isinstance()\n",
        "- issubclass()\n",
        "- property()\n",
        "- setattr()\n",
        "- super()"
      ]
    },
    {
      "metadata": {
        "id": "GLgQ9nqOjKKb",
        "colab_type": "text"
      },
      "cell_type": "markdown",
      "source": [
        "#### Input/Output\n",
        "\n",
        "- format()\n",
        "- input()\n",
        "- open()\n",
        "- print()"
      ]
    },
    {
      "metadata": {
        "id": "pCHY_eVhjKcy",
        "colab_type": "text"
      },
      "cell_type": "markdown",
      "source": [
        "#### Variables, References, and Scope\n",
        "\n",
        "- dir()\n",
        "- globals()\n",
        "- id()\n",
        "- locals()\n",
        "- vars()"
      ]
    },
    {
      "metadata": {
        "id": "PBf7e7T-jNMY",
        "colab_type": "text"
      },
      "cell_type": "markdown",
      "source": [
        "#### Miscellaneous\n",
        "\n",
        "- callable()\n",
        "- compile()\n",
        "- eval()\n",
        "- exec()\n",
        "- hash()\n",
        "- help()\n",
        "- memoryview()\n",
        "- staticmethod()\n",
        "- _ _ import _ _()"
      ]
    },
    {
      "metadata": {
        "id": "MEXRLnaAjKuX",
        "colab_type": "text"
      },
      "cell_type": "markdown",
      "source": [
        ""
      ]
    },
    {
      "metadata": {
        "id": "-zg4T7IfjK_Q",
        "colab_type": "text"
      },
      "cell_type": "markdown",
      "source": [
        ""
      ]
    },
    {
      "metadata": {
        "id": "dswC4TTpjLOI",
        "colab_type": "text"
      },
      "cell_type": "markdown",
      "source": [
        ""
      ]
    },
    {
      "metadata": {
        "id": "XbMJycAmjLdt",
        "colab_type": "text"
      },
      "cell_type": "markdown",
      "source": [
        ""
      ]
    },
    {
      "metadata": {
        "id": "-8h_04QvjLtU",
        "colab_type": "text"
      },
      "cell_type": "markdown",
      "source": [
        ""
      ]
    },
    {
      "metadata": {
        "id": "i6wF7YgHjL8e",
        "colab_type": "text"
      },
      "cell_type": "markdown",
      "source": [
        ""
      ]
    },
    {
      "metadata": {
        "id": "2xdStScHjMLP",
        "colab_type": "text"
      },
      "cell_type": "markdown",
      "source": [
        ""
      ]
    },
    {
      "metadata": {
        "id": "QOIx8Z9ojMbT",
        "colab_type": "text"
      },
      "cell_type": "markdown",
      "source": [
        ""
      ]
    },
    {
      "metadata": {
        "id": "P6eC9TLHjMrA",
        "colab_type": "text"
      },
      "cell_type": "markdown",
      "source": [
        ""
      ]
    },
    {
      "metadata": {
        "id": "EdX46CGDjM8C",
        "colab_type": "text"
      },
      "cell_type": "markdown",
      "source": [
        ""
      ]
    },
    {
      "metadata": {
        "id": "pMZ7ydoti0Fz",
        "colab_type": "code",
        "colab": {}
      },
      "cell_type": "code",
      "source": [
        ""
      ],
      "execution_count": 0,
      "outputs": []
    }
  ]
}